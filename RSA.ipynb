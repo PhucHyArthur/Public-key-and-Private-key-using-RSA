{
 "cells": [
  {
   "cell_type": "code",
   "execution_count": 2,
   "metadata": {},
   "outputs": [],
   "source": [
    "# Sử dụng thư viện RSA\n",
    "\n",
    "import rsa"
   ]
  },
  {
   "cell_type": "code",
   "execution_count": 3,
   "metadata": {},
   "outputs": [],
   "source": [
    "#Tạo cặp khóa RSA độ dài 1024 bit\n",
    "\n",
    "public_key, private_key = rsa.newkeys(1024)"
   ]
  },
  {
   "cell_type": "code",
   "execution_count": 4,
   "metadata": {},
   "outputs": [],
   "source": [
    "# Lưu cặp khóa vào hai tệp PEM\n",
    "with open(\"public.pem\", \"wb\") as f:\n",
    "    f.write(public_key.save_pkcs1(\"PEM\"))\n",
    "\n",
    "with open(\"private.pem\", \"wb\") as f:\n",
    "    f.write(private_key.save_pkcs1(\"PEM\"))"
   ]
  },
  {
   "cell_type": "code",
   "execution_count": 5,
   "metadata": {},
   "outputs": [],
   "source": [
    "#Đọc cặp khóa \n",
    "\n",
    "with open(\"public.pem\", \"rb\") as f:\n",
    "    public_key = rsa.PublicKey.load_pkcs1(f.read())\n",
    "\n",
    "with open(\"private.pem\", \"rb\") as f:\n",
    "    private_key = rsa.PrivateKey.load_pkcs1(f.read())"
   ]
  }
 ],
 "metadata": {
  "kernelspec": {
   "display_name": "Python 3",
   "language": "python",
   "name": "python3"
  },
  "language_info": {
   "codemirror_mode": {
    "name": "ipython",
    "version": 3
   },
   "file_extension": ".py",
   "mimetype": "text/x-python",
   "name": "python",
   "nbconvert_exporter": "python",
   "pygments_lexer": "ipython3",
   "version": "3.10.5"
  },
  "orig_nbformat": 4
 },
 "nbformat": 4,
 "nbformat_minor": 2
}
